{
 "cells": [
  {
   "cell_type": "code",
   "execution_count": null,
   "metadata": {},
   "outputs": [],
   "source": [
    "# install package references\n",
    "!pip install keras\n",
    "!pip install tensorflow"
   ]
  },
  {
   "cell_type": "code",
   "execution_count": 47,
   "metadata": {},
   "outputs": [
    {
     "name": "stdout",
     "output_type": "stream",
     "text": [
      "mkdir: cannot create directory ‘/tmp/NN/train’: No such file or directory\n",
      "download: s3://f404466-emr-poc/data/tweets/train/tweets.csv to ../../../../tmp/NN/train/tweets.csv\n",
      "mkdir: cannot create directory ‘/tmp/CNN/test’: No such file or directory\n",
      "download: s3://f404466-emr-poc/data/tweets/test/tweets.csv to ../../../../tmp/NN/test/tweets.csv\n"
     ]
    }
   ],
   "source": [
    "# copy files from s3 to local temp folder\n",
    "!mkdir /tmp/NN/train\n",
    "!aws s3 cp s3://f404466-emr-poc/data/tweets/train/tweets.csv /tmp/NN/train/tweets.csv\n",
    "    \n",
    "!mkdir /tmp/CNN/test\n",
    "!aws s3 cp s3://f404466-emr-poc/data/tweets/test/tweets.csv /tmp/NN/test/tweets.csv"
   ]
  },
  {
   "cell_type": "code",
   "execution_count": 41,
   "metadata": {},
   "outputs": [],
   "source": [
    "from numpy.random import seed\n",
    "import matplotlib.pyplot as plt\n",
    "\n",
    "import numpy as np\n",
    "import pandas as pd\n",
    "\n",
    "from sklearn import svm, datasets\n",
    "from sklearn.model_selection import train_test_split\n",
    "from sklearn.metrics import confusion_matrix\n",
    "from sklearn.utils.multiclass import unique_labels\n",
    "\n",
    "from keras.preprocessing.text import Tokenizer\n",
    "from keras.preprocessing.sequence import pad_sequences\n",
    "from keras.models import Sequential\n",
    "from keras.layers import Dense, Embedding, LSTM, GRU, Activation\n",
    "from keras.layers.embeddings import Embedding\n",
    "from keras.wrappers.scikit_learn import KerasClassifier\n",
    "from keras.utils import np_utils\n",
    "from sklearn.metrics import confusion_matrix\n",
    "\n",
    "\n",
    "from sklearn.preprocessing import LabelEncoder, OneHotEncoder\n",
    "\n",
    "seed(10)\n",
    "\n",
    "#helper functions\n",
    "\n",
    "def baseline_model():\n",
    "    # create model\n",
    "    model = Sequential()\n",
    "    model.add(Embedding(vocab_size, 100, input_length=max_length))\n",
    "    model.add(GRU(units=32, dropout=0.2, recurrent_dropout=0.2))\n",
    "    #model.add(Dense(32, input_dim=max_length, kernel_initializer=\"normal\", activation='relu'))\n",
    "    model.add(Dense(3, kernel_initializer=\"normal\", activation='softmax'))\n",
    "    # Compile model\n",
    "    model.compile(loss='binary_crossentropy', optimizer='adam', metrics=['accuracy'])\n",
    "    return model\n",
    "\n",
    "\n",
    "\n",
    "def plot_confusion_matrix(y_true, y_pred, classes,\n",
    "                          normalize=False,\n",
    "                          title=None,\n",
    "                          cmap=plt.cm.Blues):\n",
    "    \"\"\"\n",
    "    This function prints and plots the confusion matrix.\n",
    "    Normalization can be applied by setting `normalize=True`.\n",
    "    \"\"\"\n",
    "    if not title:\n",
    "        if normalize:\n",
    "            title = 'Normalized confusion matrix'\n",
    "        else:\n",
    "            title = 'Confusion matrix, without normalization'\n",
    "\n",
    "    # Compute confusion matrix\n",
    "    cm = confusion_matrix(y_true, y_pred)\n",
    "    # Only use the labels that appear in the data\n",
    "    #classes = classes[unique_labels(y_true, y_pred)]\n",
    "    if normalize:\n",
    "        cm = cm.astype('float') / cm.sum(axis=1)[:, np.newaxis]\n",
    "        print(\"Normalized confusion matrix\")\n",
    "    else:\n",
    "        print('Confusion matrix, without normalization')\n",
    "\n",
    "    print(cm)\n",
    "\n",
    "    fig, ax = plt.subplots()\n",
    "    im = ax.imshow(cm, interpolation='nearest', cmap=cmap)\n",
    "    ax.figure.colorbar(im, ax=ax)\n",
    "    # We want to show all ticks...\n",
    "    ax.set(xticks=np.arange(cm.shape[1]),\n",
    "           yticks=np.arange(cm.shape[0]),\n",
    "           # ... and label them with the respective list entries\n",
    "           xticklabels=classes, yticklabels=classes,\n",
    "           title=title,\n",
    "           ylabel='True label',\n",
    "           xlabel='Predicted label')\n",
    "\n",
    "    # Rotate the tick labels and set their alignment.\n",
    "    plt.setp(ax.get_xticklabels(), rotation=45, ha=\"right\",\n",
    "             rotation_mode=\"anchor\")\n",
    "\n",
    "    # Loop over data dimensions and create text annotations.\n",
    "    fmt = '.2f' if normalize else 'd'\n",
    "    thresh = cm.max() / 2.\n",
    "    for i in range(cm.shape[0]):\n",
    "        for j in range(cm.shape[1]):\n",
    "            ax.text(j, i, format(cm[i, j], fmt),\n",
    "                    ha=\"center\", va=\"center\",\n",
    "                    color=\"white\" if cm[i, j] > thresh else \"black\")\n",
    "    fig.tight_layout()\n",
    "    return ax"
   ]
  },
  {
   "cell_type": "code",
   "execution_count": 48,
   "metadata": {},
   "outputs": [
    {
     "name": "stdout",
     "output_type": "stream",
     "text": [
      "                                               tweet sentiment\n",
      "0  imagine turning the key to open your beautiful...   NEUTRAL\n",
      "1  see what this home has to offer contact me for...   NEUTRAL\n",
      "2  i would love to show you my at port potomac av...  POSITIVE\n",
      "3             great inspirational quote folded hands  POSITIVE\n",
      "4  i entered to win k toward a new home from no p...   NEUTRAL\n"
     ]
    }
   ],
   "source": [
    "df = pd.read_csv(\"/tmp/NN/train/tweets.csv\")\n",
    "df = df.drop(['Unnamed: 0'], axis=1)\n",
    "\n",
    "print(df.head())\n",
    "\n",
    "df=df[df['sentiment']!='MIXED']\n",
    "\n",
    "x_train = df['tweet']\n",
    "y_train = df['sentiment']"
   ]
  },
  {
   "cell_type": "code",
   "execution_count": 49,
   "metadata": {},
   "outputs": [
    {
     "name": "stdout",
     "output_type": "stream",
     "text": [
      "                                               tweet sentiment\n",
      "0                                          buy under   NEUTRAL\n",
      "1  reserve plot at the paddock in milton green wi...  POSITIVE\n",
      "2  today i saw that i was quoted in the sept oct ...   NEUTRAL\n",
      "3  for real we ll pay the up-front costs to incre...   NEUTRAL\n",
      "4  searching for your dream home let us help my p...   NEUTRAL\n"
     ]
    }
   ],
   "source": [
    "df = pd.read_csv(\"/tmp/NN/test/tweets.csv\")\n",
    "df = df.drop(['Unnamed: 0'], axis=1)\n",
    "\n",
    "print(df.head())\n",
    "\n",
    "df=df[df['sentiment']!='MIXED']\n",
    "\n",
    "x_test = df['tweet']\n",
    "y_test = df['sentiment']"
   ]
  },
  {
   "cell_type": "code",
   "execution_count": 50,
   "metadata": {},
   "outputs": [
    {
     "name": "stdout",
     "output_type": "stream",
     "text": [
      "Epoch 1/25\n",
      " - 6s - loss: 0.4761 - acc: 0.7848\n",
      "Epoch 2/25\n",
      " - 3s - loss: 0.3827 - acc: 0.8575\n",
      "Epoch 3/25\n",
      " - 3s - loss: 0.3810 - acc: 0.8575\n",
      "Epoch 4/25\n",
      " - 3s - loss: 0.3386 - acc: 0.8619\n",
      "Epoch 5/25\n",
      " - 3s - loss: 0.2219 - acc: 0.9189\n",
      "Epoch 6/25\n",
      " - 3s - loss: 0.1697 - acc: 0.9388\n",
      "Epoch 7/25\n",
      " - 3s - loss: 0.1398 - acc: 0.9515\n",
      "Epoch 8/25\n",
      " - 3s - loss: 0.1213 - acc: 0.9580\n",
      "Epoch 9/25\n",
      " - 3s - loss: 0.1059 - acc: 0.9639\n",
      "Epoch 10/25\n",
      " - 3s - loss: 0.1008 - acc: 0.9651\n",
      "Epoch 11/25\n",
      " - 3s - loss: 0.0924 - acc: 0.9680\n",
      "Epoch 12/25\n",
      " - 3s - loss: 0.0872 - acc: 0.9700\n",
      "Epoch 13/25\n",
      " - 3s - loss: 0.0820 - acc: 0.9703\n",
      "Epoch 14/25\n",
      " - 3s - loss: 0.0779 - acc: 0.9709\n",
      "Epoch 15/25\n",
      " - 3s - loss: 0.0748 - acc: 0.9712\n",
      "Epoch 16/25\n",
      " - 3s - loss: 0.0713 - acc: 0.9726\n",
      "Epoch 17/25\n",
      " - 3s - loss: 0.0680 - acc: 0.9737\n",
      "Epoch 18/25\n",
      " - 3s - loss: 0.0621 - acc: 0.9752\n",
      "Epoch 19/25\n",
      " - 3s - loss: 0.0593 - acc: 0.9758\n",
      "Epoch 20/25\n",
      " - 3s - loss: 0.0547 - acc: 0.9776\n",
      "Epoch 21/25\n",
      " - 3s - loss: 0.0525 - acc: 0.9796\n",
      "Epoch 22/25\n",
      " - 3s - loss: 0.0492 - acc: 0.9825\n",
      "Epoch 23/25\n",
      " - 3s - loss: 0.0417 - acc: 0.9865\n",
      "Epoch 24/25\n",
      " - 3s - loss: 0.0381 - acc: 0.9880\n",
      "Epoch 25/25\n",
      " - 3s - loss: 0.0329 - acc: 0.9910\n"
     ]
    },
    {
     "data": {
      "text/plain": [
       "<keras.callbacks.History at 0x7f3f60207e90>"
      ]
     },
     "execution_count": 50,
     "metadata": {},
     "output_type": "execute_result"
    }
   ],
   "source": [
    "#one hot encoding the 3 different possible sentiments\n",
    "encoder = LabelEncoder()\n",
    "encoder.fit(y_train)\n",
    "encoded_train_Y = encoder.transform(y_train)\n",
    "# convert integers to dummy variables (i.e. one hot encoded)\n",
    "dummy_train_y = np_utils.to_categorical(encoded_train_Y)\n",
    "\n",
    "encoder = LabelEncoder()\n",
    "encoder.fit(y_test)\n",
    "encoded_test_Y = encoder.transform(y_test)\n",
    "# convert integers to dummy variables (i.e. one hot encoded)\n",
    "dummy_test_y = np_utils.to_categorical(encoded_test_Y)\n",
    "\n",
    "x = pd.concat([x_train, x_test])\n",
    "tokenizer_obj = Tokenizer()   \n",
    "\n",
    "tokenizer_obj.fit_on_texts(x)    \n",
    "max_length = max([len(s.split()) for s in x])    \n",
    "vocab_size = len(tokenizer_obj.word_index)+1  \n",
    "\n",
    "#Building the vectors of words\n",
    "x_train_tokens = tokenizer_obj.texts_to_sequences(x_train)\n",
    "x_test_tokens = tokenizer_obj.texts_to_sequences(x_test)\n",
    "\n",
    "x_train_pad = pad_sequences(x_train_tokens, maxlen=max_length, padding='post')\n",
    "x_test_pad = pad_sequences(x_test_tokens, maxlen=max_length, padding='post')\n",
    "\n",
    "model = baseline_model()\n",
    "\n",
    "estimator = KerasClassifier(build_fn=baseline_model, epochs=25, batch_size=128, verbose=2)\n",
    "\n",
    "estimator.fit(x_train_pad, dummy_train_y)"
   ]
  },
  {
   "cell_type": "code",
   "execution_count": 51,
   "metadata": {},
   "outputs": [
    {
     "name": "stdout",
     "output_type": "stream",
     "text": [
      "Confusion matrix, without normalization\n",
      "[[ 280    4   20]\n",
      " [   5 6107    2]\n",
      " [   9    0 1350]]\n",
      "Confusion matrix, without normalization\n",
      "[[  33   47    7]\n",
      " [  98 1326   73]\n",
      " [  51   74  240]]\n"
     ]
    },
    {
     "data": {
      "text/plain": [
       "<matplotlib.axes._subplots.AxesSubplot at 0x7f3f5f28d290>"
      ]
     },
     "execution_count": 51,
     "metadata": {},
     "output_type": "execute_result"
    },
    {
     "data": {
      "image/png": "[encoded data removed]",
      "text/plain": [
       "<Figure size 432x288 with 2 Axes>"
      ]
     },
     "metadata": {},
     "output_type": "display_data"
    },
    {
     "data": {
      "image/png": "[encoded data removed]",
      "text/plain": [
       "<Figure size 432x288 with 2 Axes>"
      ]
     },
     "metadata": {},
     "output_type": "display_data"
    }
   ],
   "source": [
    "predictions = estimator.predict(x_train_pad)\n",
    "plot_confusion_matrix(y_train, encoder.inverse_transform(predictions), \n",
    "                      classes=np.array(['NEGATIVE', 'NEUTRAL', 'POSITIVE'], dtype = '|S10'), \n",
    "                      normalize=False)\n",
    "    \n",
    "predictions = estimator.predict(x_test_pad)\n",
    "plot_confusion_matrix(y_test, encoder.inverse_transform(predictions), \n",
    "                      classes=np.array(['NEGATIVE', 'NEUTRAL', 'POSITIVE'], dtype = '|S10'), \n",
    "                      normalize=False)"
   ]
  },
  {
   "cell_type": "code",
   "execution_count": null,
   "metadata": {},
   "outputs": [],
   "source": []
  }
 ],
 "metadata": {
  "kernelspec": {
   "display_name": "conda_python2",
   "language": "python",
   "name": "conda_python2"
  },
  "language_info": {
   "codemirror_mode": {
    "name": "ipython",
    "version": 2
   },
   "file_extension": ".py",
   "mimetype": "text/x-python",
   "name": "python",
   "nbconvert_exporter": "python",
   "pygments_lexer": "ipython2",
   "version": "2.7.15"
  }
 },
 "nbformat": 4,
 "nbformat_minor": 2
}
